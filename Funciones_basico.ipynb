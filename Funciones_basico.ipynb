{
  "nbformat": 4,
  "nbformat_minor": 0,
  "metadata": {
    "colab": {
      "name": "Funciones-basico.ipynb",
      "private_outputs": true,
      "provenance": [],
      "collapsed_sections": [],
      "authorship_tag": "ABX9TyOE3P9ORHVT+jEmhyNcaHvx",
      "include_colab_link": true
    },
    "kernelspec": {
      "name": "python3",
      "display_name": "Python 3"
    },
    "language_info": {
      "name": "python"
    }
  },
  "cells": [
    {
      "cell_type": "markdown",
      "metadata": {
        "id": "view-in-github",
        "colab_type": "text"
      },
      "source": [
        "<a href=\"https://colab.research.google.com/github/liliarojas-profe/Analisis-de-datos-TG-Los-Andes/blob/main/Funciones_basico.ipynb\" target=\"_parent\"><img src=\"https://colab.research.google.com/assets/colab-badge.svg\" alt=\"Open In Colab\"/></a>"
      ]
    },
    {
      "cell_type": "markdown",
      "metadata": {
        "id": "DfXX5wiMo1Cr"
      },
      "source": [
        "# **FUNCIONES**"
      ]
    },
    {
      "cell_type": "markdown",
      "metadata": {
        "id": "0y7dGaWCpBr0"
      },
      "source": [
        "Las funciones son un elemento muy utilizado en la programación. Empaquetan y ‘aíslan’ del resto del programa una parte de código que realiza alguna tarea específica. Las funciones nos permiten reutilizar el código que esté dentro de éste y crear pequeños programas dentro del programa general.\n",
        "\n",
        "Son por tanto un conjunto de instrucciones que ejecutan una tarea determinada y que hemos encapsulado en un formato estándar para que nos sea muy sencillo de manipular y reutilizar.\n",
        "\n",
        "Las funciones también las utilizamos para generar abstracciones. No necesaramiente sabemos cómo funcionan las librerías que utilizamos, pero sí sabemos cómo utilizarlas. Lo mismo cuándo utilizamos los métodos que ya vienen en Python, no tenemos que saber cómo funciona, sino cómo usarlo.\n",
        "\n",
        "Con las funciones podemos dividir en componentes a nuestro programa, similar a un circuito electrónico, en dónde tenemos transistores, resistores, interruptores, etc.\n",
        "\n",
        "\n"
      ]
    },
    {
      "cell_type": "markdown",
      "metadata": {
        "id": "klBzkqazqnV0"
      },
      "source": [
        "Una función tiene tres componentes importantes:\n",
        "* los parámetros, que son los valores que recibe la función como entrada;\n",
        "* el código de la función, que son las operaciones que hace la función; y\n",
        "* el resultado (o valor de retorno), que es el valor final que entrega la función"
      ]
    },
    {
      "cell_type": "code",
      "metadata": {
        "id": "cdT23XokoxHn"
      },
      "source": [
        "def resta (a,b):\n",
        "  return a-b\n",
        "\n",
        "resta (30, 10)"
      ],
      "execution_count": null,
      "outputs": []
    },
    {
      "cell_type": "code",
      "metadata": {
        "id": "TnFFxiOG0-XV"
      },
      "source": [
        "from google.colab import files\n",
        "uploaded = files.upload()"
      ],
      "execution_count": null,
      "outputs": []
    },
    {
      "cell_type": "markdown",
      "metadata": {
        "id": "ZgMCjWSitqt9"
      },
      "source": [
        "##**Los argumentos NO son lo mismo que los parámetros**"
      ]
    },
    {
      "cell_type": "markdown",
      "metadata": {
        "id": "urte7fCWzwn3"
      },
      "source": [
        "Es importante resaltar que aunque parezca argumentos y parámetros no son los mismos.\n",
        "Los **parámetros** son las ***variables con las que trabajará la función***, mientras que los **argumentos** son los ***valores que le asignaremos a esas variables***."
      ]
    },
    {
      "cell_type": "markdown",
      "metadata": {
        "id": "ajdqqsz8F1Tt"
      },
      "source": [
        "Un parámetro es una variable, pero existen dos factores que hacen a un parámetro diferente:\n",
        "\n",
        "* **Los parámetros solo existen dentro de las funciones en donde han sido definidos**, y el único lugar donde un parámetro puede ser definido es entre los paréntesis después del nombre de la función, donde se encuentra la palabra reservada def.\n",
        "* **La asignación de un valor a un parámetro de una función se hace en el momento en que la función se manda llamar o se invoca**, especificando el argumento correspondiente.\n",
        "\n",
        "\n",
        "\n",
        "```\n",
        "def funcion(parametro):\n",
        "    \n",
        "```\n",
        "\n"
      ]
    },
    {
      "cell_type": "markdown",
      "metadata": {
        "id": "JmVOimE6Gsx1"
      },
      "source": [
        "Recuerda que:\n",
        "\n",
        "* **Los parámetros solo existen dentro de las funciones** (este es su entorno natural).\n",
        "* **Los argumentos existen fuera de las funciones**, y son los que pasan los valores a los parámetros correspondientes.\n",
        "Existe una clara división entre estos dos mundos.\n",
        "\n",
        "\n",
        "Enriquezcamos la función anterior agregándole un parámetro, se utilizará para mostrar al usuario el valor de un número que la función pide.\n",
        "\n"
      ]
    },
    {
      "cell_type": "code",
      "metadata": {
        "id": "-HeA0i-5lf-E"
      },
      "source": [
        "def suma(a, b): #parámetros\n",
        "  return a + b\n",
        "\n",
        "suma(1, 4) #argumentos"
      ],
      "execution_count": null,
      "outputs": []
    },
    {
      "cell_type": "markdown",
      "metadata": {
        "id": "QgFClsz4ut68"
      },
      "source": [
        "Otro ejemplo:"
      ]
    },
    {
      "cell_type": "markdown",
      "metadata": {
        "id": "FxQburvQx8R4"
      },
      "source": [
        "##**Cómo llamar a una función**"
      ]
    },
    {
      "cell_type": "markdown",
      "metadata": {
        "id": "9I-Z1N7ByAge"
      },
      "source": [
        "Podemos llamar (o invocar) a una función escribiendo su nombre como si se tratara de una instrucción más del código, eso sí, pasando los **argumentos** necesarios de acuerdo a los **parámetros** definidos por la función. \n",
        "\n",
        "Sinembargo los **argumentos** pueden pasarse de varias maneras, vamos a ver un ejemplo con una función que invierte el nombre de una persona:"
      ]
    },
    {
      "cell_type": "markdown",
      "metadata": {
        "id": "z5C1ez4i4zbm"
      },
      "source": [
        ""
      ]
    },
    {
      "cell_type": "markdown",
      "metadata": {
        "id": "u3JWZ08S0nNB"
      },
      "source": [
        ""
      ]
    },
    {
      "cell_type": "code",
      "metadata": {
        "id": "pSepoeAwzDhJ"
      },
      "source": [
        "def invertirNombre(nombre, apellido, inverso = False):\n",
        "    if inverso == True:\n",
        "        return print(f'{apellido} {nombre}')\n",
        "\n",
        "    else:\n",
        "        return print(f'{nombre} {apellido}')\n",
        "\n",
        "#Formas de llamar a una función y sus parámetros\n",
        "invertirNombre('Juan', 'Tenorio')\n",
        "invertirNombre('Juan', 'Tenorio', inverso=True)\n",
        "invertirNombre(apellido='Juan', nombre='Tenorio')"
      ],
      "execution_count": null,
      "outputs": []
    },
    {
      "cell_type": "markdown",
      "metadata": {
        "id": "Gzd74gkW6XgI"
      },
      "source": [
        "##**Algunos ejemplos de funciones**"
      ]
    },
    {
      "cell_type": "code",
      "metadata": {
        "id": "cjBxxkugOWxE"
      },
      "source": [
        "nombre = input(\"Escriba su nombre \")\n",
        "apellido = input(\"Escriba su apellido \")\n",
        "\n",
        "def saludar():\n",
        "  print(\"Hola\", nombre)\n",
        "\n",
        "saludar()\n",
        "\n",
        "def segunda_funcion(n1):\n",
        "  return \"Hola \" + n1 + \" soy otra función\"\n",
        "\n",
        "print(segunda_funcion(nombre))\n"
      ],
      "execution_count": null,
      "outputs": []
    },
    {
      "cell_type": "code",
      "metadata": {
        "id": "3y617c2kU9lk"
      },
      "source": [
        "def suma_rara(a, b, c):\n",
        "  resultado_1 = a+b\n",
        "  resultado_2 = b+c \n",
        "  return resultado_1, resultado_2\n",
        "\n",
        "print(suma_rara(5,3,1))\n"
      ],
      "execution_count": null,
      "outputs": []
    },
    {
      "cell_type": "code",
      "metadata": {
        "id": "O5hDO4lAVvPz"
      },
      "source": [
        "#calcular área círculo, input y convertir en texto\n",
        "\n",
        "radio = float(input(\"Por favor, escriba el radio del círculo: \"))\n",
        "pi = 3.1416\n",
        "\n",
        "def area_c(n1):\n",
        "  resultado = pi * (n1**2)\n",
        "  return resultado\n",
        "\n",
        "print (\"El área es\", str(round(area_c (radio), 2)))\n"
      ],
      "execution_count": null,
      "outputs": []
    }
  ]
}
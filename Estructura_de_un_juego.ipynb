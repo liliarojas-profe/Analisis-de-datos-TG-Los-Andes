{
  "nbformat": 4,
  "nbformat_minor": 0,
  "metadata": {
    "colab": {
      "name": "Estructura de un juego.ipynb",
      "private_outputs": true,
      "provenance": [],
      "collapsed_sections": [],
      "mount_file_id": "1owKDbOVSHbQWdr3hyHWiVUb3LrlGz8y4",
      "authorship_tag": "ABX9TyOQOd0D0VXR79APtALFMSlj",
      "include_colab_link": true
    },
    "kernelspec": {
      "name": "python3",
      "display_name": "Python 3"
    },
    "language_info": {
      "name": "python"
    }
  },
  "cells": [
    {
      "cell_type": "markdown",
      "metadata": {
        "id": "view-in-github",
        "colab_type": "text"
      },
      "source": [
        "<a href=\"https://colab.research.google.com/github/liliarojas-profe/Analisis-de-datos-TG-Los-Andes/blob/main/Estructura_de_un_juego.ipynb\" target=\"_parent\"><img src=\"https://colab.research.google.com/assets/colab-badge.svg\" alt=\"Open In Colab\"/></a>"
      ]
    },
    {
      "cell_type": "markdown",
      "metadata": {
        "id": "rOkTSI_7vfI6"
      },
      "source": [
        "#**PROGRAMEMOS UN VIDEOJUEGO**"
      ]
    },
    {
      "cell_type": "markdown",
      "metadata": {
        "id": "0wo3bgLxy4Ow"
      },
      "source": [
        "#**Módulo PyGame**"
      ]
    },
    {
      "cell_type": "markdown",
      "metadata": {
        "id": "baquyT5YzYwT"
      },
      "source": [
        "PyGame es un módulo del lenguaje de programación Python que permiten la creación de videojuegos en dos dimensiones de una manera sencilla. Mediante PyGame podemos utilizar sprites (objetos), cargar y mostrar imágenes en diferentes formatos, sonidos, etc. Además, al ser un módulo destinado a la programación de videojuegos se puede monitorizar el teclado o joystick de una manera bastante sencilla.\n",
        "\n",
        "PyGame se distribuye bajo los términos de la LGPL GNU. Construido sobre la biblioteca SDL, permite programar la parte multimedia (gráficos, sonido y la entrada de teclado, ratón o joystick), sin encontrar las dificultades de lenguajes de bajo nivel como C y sus derivados. Esto se basa en la suposición de que la parte multimedia es suficientemente independiente de la lógica del juego para que podamos usar un lenguaje de alto nivel (en este caso el de Python) para la estructura del juego.\n",
        "\n",
        "Puedes ver una imagen en: https://github.com/liliarojas-profe/Tutoriales/blob/master/v1/introduccion-a-pygame-en-raspberry-pi/img/ciclo-del-videojuego.jpg?raw=true\n",
        "\n"
      ]
    },
    {
      "cell_type": "markdown",
      "metadata": {
        "id": "zO5LuOj0HciS"
      },
      "source": [
        "#Tipos de datos con PyGame"
      ]
    },
    {
      "cell_type": "markdown",
      "metadata": {
        "id": "hG0l8_w5Hgnw"
      },
      "source": [
        "* pygame.Rect –  La ubicación y el tamaño de un espacio rectangular son representados por los objetos Rect. A partir de su atributo topleft o los atributos topright, bottomleft y bottomright la ubicación puede determinarse.  Estos atributos son una tupla de enteros para la X e Y como coordenadas.  A partir de los atributos width y height el tamaño puede determinarse. En el juego hay colision por lo que los objetos Rect tienen un método colliderect(). Este metodo es muy util en juegos donde hay colision.\n",
        "\n",
        "+ pygame.Surface – Los objetos Surface son áreas de píxeles coloreados y representan una imagen rectangular. Tienen un método blit() para dibujar la imagen de un objeto Surface sobre otro objeto Surface. El objeto Surface devuelto por la función pygame.display.set_mode() es especial porque cualquier cosa sobre ese objeto Surface se muestra en la pantalla del usuario al llamar a pygame.display.update(). Este metodo es muy util en juegos.\n",
        "pygame.event.Event – Genera objetos Event cada vez que el usuario provee entradas (teclado, ratón u otras). Pygame.event.get() devuelve una lista de estos objetos Event. Mirando su atributo type puedes ver a qué tipo de evento corresponde. Algunos ejemplos de tipos de eventos son QUIT, KEYDOWN y MOUSEBUTTONUP.\n",
        "\n",
        "* pygame.font.Font – Este módulo tiene el tipo de datos Font que representa la fuente tipográfica. Los argumentos son una cadena con el nombre de la fuente y un entero con el tamaño de letra. Si escribes None se utiliza la fuente por defecto.\n",
        "\n",
        "* pygame.time.Clock – El objeto Clock evita que los juegos se ejecuten a la máxima velocidad. Su método tick(), le pasamos el FPS para controlar la velocidad del juego.\n",
        "\n",
        "\n"
      ]
    },
    {
      "cell_type": "markdown",
      "metadata": {
        "id": "95j2jrmoz9aJ"
      },
      "source": [
        "#Primeros pasos"
      ]
    },
    {
      "cell_type": "markdown",
      "metadata": {
        "id": "ela2_ncGzYnb"
      },
      "source": [
        "Siempre que se empieza a programar un videojuego se suele utilizar una plantilla predefinida con las instrucciones básicas o esenciales. La idea es no escribir el código básico cuando se puede reutilizar."
      ]
    },
    {
      "cell_type": "code",
      "metadata": {
        "id": "17uqxiM9vPdL"
      },
      "source": [
        "from google.colab import files\n",
        "uploaded = files.upload()"
      ],
      "execution_count": null,
      "outputs": []
    },
    {
      "cell_type": "markdown",
      "metadata": {
        "id": "CHiESHEs2hma"
      },
      "source": [
        "Todo videojuego consta de 3 partes principales que se suelen declarar dentro de la función principal main():\n",
        "\n",
        "Se dibuja la pantalla. En este caso pintaremos los escenarios, sprites, textos y demás objetos que queramos representar a los largo de la partida del juego.\n",
        "Se comprueban los eventos. Los eventos típicos que se suelen utilizar son el de finalización de la partida al presionar sobre el cierre de la ventana, así como los diferentes eventos que se prograrán al presionar una tecla, etc.\n",
        "Se actualiza la pantalla. Una vez se actúa sobre cada elemento, se actualiza la pantalla para que queden fijados los componentes del videojuego.\n",
        "\n",
        "Copia el siguiente código en tu editor de código y verás como se abre una nueva ventana para comenzar a programar tu videojuego.\n",
        "\n"
      ]
    },
    {
      "cell_type": "code",
      "metadata": {
        "id": "jtuBl7ZYzDF7"
      },
      "source": [
        "import random, pygame, sys\n",
        "from pygame.locals import *\n",
        "\n",
        "# Declaración de constantes y variables\n",
        "WHITE = (255, 255, 255)\n",
        "\n",
        "# Función principal del juego\n",
        "def main():\n",
        "  # Se inicializa el juego\n",
        "  pygame.init()\n",
        "  pygame.display.set_caption(\"Título de mi juego\")\n",
        "  screen = pygame.display.set_mode((480,360))\n",
        "\n",
        "  # Bucle principal\n",
        "  while True:\n",
        "\n",
        "    # 1.- Se dibuja la pantalla\n",
        "    screen.fill(WHITE)\n",
        "\n",
        "    # 2.- Se comprueban los eventos\n",
        "    for event in pygame.event.get():\n",
        "      if event.type == QUIT:\n",
        "        pygame.quit()\n",
        "        sys.exit(0)\n",
        "\n",
        "    # 3.- Se actualiza la pantalla\n",
        "    pygame.display.update()\n",
        "\n",
        "# Este fichero es el que ejecuta el juego principal\n",
        "if __name__ == '__main__':\n",
        "  main()"
      ],
      "execution_count": null,
      "outputs": []
    },
    {
      "cell_type": "markdown",
      "metadata": {
        "id": "s5VzmE_38sE9"
      },
      "source": [
        "Una vez copiado el código en tu editor y ejecutado verás que aparece una ventana con unas determinadas dimensiones, título, color de fondo. Si observas en las primeras líneas del código, y modificas dicho parámetros, tendrás una ventana diferente. ¡Pruébalo!"
      ]
    },
    {
      "cell_type": "markdown",
      "metadata": {
        "id": "XZYVKXQa8zRd"
      },
      "source": [
        "#Escenario"
      ]
    },
    {
      "cell_type": "markdown",
      "metadata": {
        "id": "HXAu0g7i9B9v"
      },
      "source": [
        "Hasta ahora, cuando ejecutamos nuestro videojuego aparece una ventana con el fondo de color blanco, porque le estamos diciendo dentro del bucle while que fije el color al color de la constante WHITE, blanco en este caso (formato RGB). Sin embargo, también se pueden añadir imágenes de fondo. Para ello tenemos que seguir los pasos de importar la imagen y establecerla en la posición deseada mediante coordenadas.\n",
        "\n",
        "La dirección de la imagen es: https://drive.google.com/file/d/17wPYhPvVR3XCYx1-0J9ZuMyPs2PBihjd/view?usp=sharing\n"
      ]
    },
    {
      "cell_type": "code",
      "metadata": {
        "id": "wK_JHTcF9Jal"
      },
      "source": [
        "...\n",
        "def main():\n",
        "  # Se inicializa el juego\n",
        "  ...\n",
        "  fondo = pygame.image.load('https://drive.google.com/file/d/17wPYhPvVR3XCYx1-0J9ZuMyPs2PBihjd/view?usp=sharing')\n",
        "  ...\n",
        "  # Bucle principal\n",
        "  while True:\n",
        "    # 1.- Se dibuja la pantalla\n",
        "    screen.blit(fondo, (0, 0))\n",
        "..."
      ],
      "execution_count": null,
      "outputs": []
    },
    {
      "cell_type": "markdown",
      "metadata": {
        "id": "vWKoMqKp_K5U"
      },
      "source": [
        "Observa que la carga de la imagen se realiza dentro de la función principal y antes del bucle while. Sin embargo, dentro del bucle while establecemos sobre la pantalla y en las coordenadas (0, 0) la imagen. Recuerda que las coordenadas (0, 0) en PyGame se sitúan en la esquina superior izquierda."
      ]
    },
    {
      "cell_type": "markdown",
      "metadata": {
        "id": "wum1kAG0_ORb"
      },
      "source": [
        "#Personaje principal"
      ]
    },
    {
      "cell_type": "markdown",
      "metadata": {
        "id": "XMC8r2IU_P0D"
      },
      "source": [
        "Para importar un personaje e interactuar sobre él deberemos proceder de la siguiente manera. En primer lugar se importa la imagen del sprite y se declaran las coordenadas de su posición. (Más adelante es conveniente crear una clase para el objeto).\n",
        "\n",
        "Una vez tenemos al personaje situado sobre su posición, programamos los eventos que efectuarán los cambios de coordenadas, y esto como puedes observar, se realiza dentro del apartado de eventos en el bucle while.\n",
        "\n",
        "Los eventos que vamos a utilizar son los movimientos básicos de las teclas del teclado para que el personaje se mueva en todas las direcciones."
      ]
    },
    {
      "cell_type": "code",
      "metadata": {
        "id": "obEIrKkn_hdw"
      },
      "source": [
        "...\n",
        "def main():\n",
        "  personaje = pygame.image.load('https://drive.google.com/file/d/1X75PTKaBvqFJz3hZd1mNvyJZRK2yxz6-/view?usp=sharing')\n",
        "  personaje_x = 240\n",
        "  personaje_y = 180\n",
        "  ...\n",
        "  # Bucle principal\n",
        "  while True:\n",
        "    ...\n",
        "    # 1.- Se dibuja la pantalla\n",
        "    screen.blit(personaje, (personaje_x, personaje_y))\n",
        "    ...\n",
        "    # 2.- Se comprueban los eventos\n",
        "    for event in pygame.event.get():\n",
        "      ...\n",
        "      if event.type == KEYDOWN:\n",
        "        if event.key == K_LEFT:\n",
        "            personaje_x -= 10\n",
        "        if event.key == K_RIGHT:\n",
        "            personaje_x += 10\n",
        "        if event.key == K_UP:\n",
        "            personaje_y -= 10\n",
        "        if event.key == K_DOWN:\n",
        "            personaje_y += 10\n",
        "..."
      ],
      "execution_count": null,
      "outputs": []
    },
    {
      "cell_type": "markdown",
      "metadata": {
        "id": "CWnrzxs7_kS8"
      },
      "source": [
        "Una vez programado, observa como al presionar las diferentes teclas de movimiento tu personaje se moverá de una posición a otra. Puedes probar a modificar las coordenadas para crear el videojuego que más te guste."
      ]
    }
  ]
}
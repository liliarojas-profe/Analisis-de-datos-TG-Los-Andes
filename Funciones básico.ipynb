{
  "nbformat": 4,
  "nbformat_minor": 0,
  "metadata": {
    "colab": {
      "name": "Funciones.ipynb",
      "private_outputs": true,
      "provenance": [],
      "authorship_tag": "ABX9TyOCJ740S0HfFc2qPkW2Uc+j",
      "include_colab_link": true
    },
    "kernelspec": {
      "name": "python3",
      "display_name": "Python 3"
    },
    "language_info": {
      "name": "python"
    }
  },
  "cells": [
    {
      "cell_type": "markdown",
      "metadata": {
        "id": "view-in-github",
        "colab_type": "text"
      },
      "source": [
        "<a href=\"https://colab.research.google.com/github/liliarojas-profe/Analisis-de-datos-TG-Los-Andes/blob/main/Funciones%20b%C3%A1sico.ipynb\" target=\"_parent\"><img src=\"https://colab.research.google.com/assets/colab-badge.svg\" alt=\"Open In Colab\"/></a>"
      ]
    },
    {
      "cell_type": "markdown",
      "metadata": {
        "id": "DfXX5wiMo1Cr"
      },
      "source": [
        "# **FUNCIONES**"
      ]
    },
    {
      "cell_type": "markdown",
      "metadata": {
        "id": "0y7dGaWCpBr0"
      },
      "source": [
        "Las funciones son un elemento muy utilizado en la programación. Empaquetan y ‘aíslan’ del resto del programa una parte de código que realiza alguna tarea específica. Las funciones nos permiten reutilizar el código que esté dentro de éste y crear pequeños programas dentro del programa general.\n",
        "\n",
        "Son por tanto un conjunto de instrucciones que ejecutan una tarea determinada y que hemos encapsulado en un formato estándar para que nos sea muy sencillo de manipular y reutilizar.\n",
        "\n",
        "Las funciones también las utilizamos para generar abstracciones. No necesaramiente sabemos cómo funcionan las librerías que utilizamos, pero sí sabemos cómo utilizarlas. Lo mismo cuándo utilizamos los métodos que ya vienen en Python, no tenemos que saber cómo funciona, sino cómo usarlo.\n",
        "\n",
        "Con las funciones podemos dividir en componentes a nuestro programa, similar a un circuito electrónico, en dónde tenemos transistores, resistores, interruptores, etc.\n",
        "\n",
        "\n"
      ]
    },
    {
      "cell_type": "markdown",
      "metadata": {
        "id": "klBzkqazqnV0"
      },
      "source": [
        "Una función tiene tres componentes importantes:\n",
        "* los parámetros, que son los valores que recibe la función como entrada;\n",
        "* el código de la función, que son las operaciones que hace la función; y\n",
        "* el resultado (o valor de retorno), que es el valor final que entrega la función"
      ]
    },
    {
      "cell_type": "code",
      "metadata": {
        "id": "cdT23XokoxHn"
      },
      "source": [
        "def resta (a,b):\n",
        "  return a-b\n",
        "\n",
        "resta (30, 10)"
      ],
      "execution_count": null,
      "outputs": []
    },
    {
      "cell_type": "code",
      "metadata": {
        "id": "TnFFxiOG0-XV"
      },
      "source": [
        "from google.colab import files\n",
        "uploaded = files.upload()"
      ],
      "execution_count": null,
      "outputs": []
    },
    {
      "cell_type": "markdown",
      "metadata": {
        "id": "ZgMCjWSitqt9"
      },
      "source": [
        "##**Los argumentos NO son lo mismo que los parámetros**"
      ]
    },
    {
      "cell_type": "markdown",
      "metadata": {
        "id": "urte7fCWzwn3"
      },
      "source": [
        "Es importante resaltar que aunque parezca argumentos y parámetros no son los mismos.\n",
        "Los **parámetros** son las ***variables con las que trabajará la función***, mientras que los **argumentos** son los ***valores que le asignaremos a esas variables***."
      ]
    },
    {
      "cell_type": "markdown",
      "metadata": {
        "id": "ajdqqsz8F1Tt"
      },
      "source": [
        "Un parámetro es una variable, pero existen dos factores que hacen a un parámetro diferente:\n",
        "\n",
        "* **Los parámetros solo existen dentro de las funciones en donde han sido definidos**, y el único lugar donde un parámetro puede ser definido es entre los paréntesis después del nombre de la función, donde se encuentra la palabra reservada def.\n",
        "* **La asignación de un valor a un parámetro de una función se hace en el momento en que la función se manda llamar o se invoca**, especificando el argumento correspondiente.\n",
        "\n",
        "\n",
        "\n",
        "```\n",
        "def funcion(parametro):\n",
        "    \n",
        "```\n",
        "\n"
      ]
    },
    {
      "cell_type": "markdown",
      "metadata": {
        "id": "JmVOimE6Gsx1"
      },
      "source": [
        "Recuerda que:\n",
        "\n",
        "* **Los parámetros solo existen dentro de las funciones** (este es su entorno natural).\n",
        "* **Los argumentos existen fuera de las funciones**, y son los que pasan los valores a los parámetros correspondientes.\n",
        "Existe una clara división entre estos dos mundos.\n",
        "\n",
        "\n",
        "Enriquezcamos la función anterior agregándole un parámetro, se utilizará para mostrar al usuario el valor de un número que la función pide.\n",
        "\n"
      ]
    },
    {
      "cell_type": "code",
      "metadata": {
        "id": "-HeA0i-5lf-E"
      },
      "source": [
        "def suma(a, b): #parámetros\n",
        "  return a + b\n",
        "\n",
        "suma(1, 4) #argumentos"
      ],
      "execution_count": null,
      "outputs": []
    },
    {
      "cell_type": "markdown",
      "metadata": {
        "id": "QgFClsz4ut68"
      },
      "source": [
        "Otro ejemplo:"
      ]
    },
    {
      "cell_type": "markdown",
      "metadata": {
        "id": "FxQburvQx8R4"
      },
      "source": [
        "##**Cómo llamar a una función**"
      ]
    },
    {
      "cell_type": "markdown",
      "metadata": {
        "id": "9I-Z1N7ByAge"
      },
      "source": [
        "Podemos llamar (o invocar) a una función escribiendo su nombre como si se tratara de una instrucción más del código, eso sí, pasando los **argumentos** necesarios de acuerdo a los **parámetros** definidos por la función. \n",
        "\n",
        "Sinembargo los **argumentos** pueden pasarse de varias maneras, vamos a ver un ejemplo con una función que invierte el nombre de una persona:"
      ]
    },
    {
      "cell_type": "markdown",
      "metadata": {
        "id": "z5C1ez4i4zbm"
      },
      "source": [
        ""
      ]
    },
    {
      "cell_type": "markdown",
      "metadata": {
        "id": "u3JWZ08S0nNB"
      },
      "source": [
        ""
      ]
    },
    {
      "cell_type": "code",
      "metadata": {
        "id": "pSepoeAwzDhJ"
      },
      "source": [
        "def invertirNombre(nombre, apellido, inverso = False):\n",
        "    if inverso == True:\n",
        "        return print(f'{apellido} {nombre}')\n",
        "\n",
        "    else:\n",
        "        return print(f'{nombre} {apellido}')\n",
        "\n",
        "#Formas de llamar a una función y sus parámetros\n",
        "invertirNombre('Juan', 'Tenorio')\n",
        "invertirNombre('Juan', 'Tenorio', inverso=True)\n",
        "invertirNombre(apellido='Juan', nombre='Tenorio')"
      ],
      "execution_count": null,
      "outputs": []
    }
  ]
}
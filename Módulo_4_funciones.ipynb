{
  "nbformat": 4,
  "nbformat_minor": 0,
  "metadata": {
    "colab": {
      "name": "Módulo 4 - funciones.ipynb",
      "provenance": [],
      "collapsed_sections": [],
      "authorship_tag": "ABX9TyOjpwFwY1vNITWXg0B91oBK",
      "include_colab_link": true
    },
    "kernelspec": {
      "name": "python3",
      "display_name": "Python 3"
    },
    "language_info": {
      "name": "python"
    }
  },
  "cells": [
    {
      "cell_type": "markdown",
      "metadata": {
        "id": "view-in-github",
        "colab_type": "text"
      },
      "source": [
        "<a href=\"https://colab.research.google.com/github/liliarojas-profe/Analisis-de-datos-TG-Los-Andes/blob/main/M%C3%B3dulo_4_funciones.ipynb\" target=\"_parent\"><img src=\"https://colab.research.google.com/assets/colab-badge.svg\" alt=\"Open In Colab\"/></a>"
      ]
    },
    {
      "cell_type": "markdown",
      "metadata": {
        "id": "wytj-h0__oFH"
      },
      "source": [
        "# Módulo 4"
      ]
    },
    {
      "cell_type": "markdown",
      "metadata": {
        "id": "p-HtofAK_Kjd"
      },
      "source": [
        "En este módulo, aprenderás:\n",
        "\n",
        "\n",
        "\n",
        "*   Cómo definir y utilizar funciones.\n",
        "*   Cómo pasar argumentos y las distintas formas de hacerlo\n",
        "*   El alcance de los nombres\n",
        "*   Tuplas y diccionarios.\n",
        "*   Procesamiento de datos.\n"
      ]
    },
    {
      "cell_type": "markdown",
      "metadata": {
        "id": "WPptV8d7KDyX"
      },
      "source": [
        "#4.1. Funciones"
      ]
    },
    {
      "cell_type": "markdown",
      "metadata": {
        "id": "k6RmIbA3_3lA"
      },
      "source": [
        "Ya hemos utiilizado algunas funciones:\n",
        "Cuando se desea mostrar o imprimir algo en consola se utiliza **print()**. Cuando se desea leer el valor de una variable se emplea **input()**, combinados posiblemente con **int()** o **float()**.\n",
        "\n",
        "También se ha hecho uso de algunos **métodos**, las cuales también son funciones, pero declarados de una manera muy especifica.\n",
        "\n",
        "Ahora aprenderás a escribir tus propias funciones, y como utilizarlas. Escribiremos varias de ellas juntos, desde muy sencillas hasta algo complejas. Se requerirá de tu concentración y atención."
      ]
    },
    {
      "cell_type": "markdown",
      "metadata": {
        "id": "es3Cbq1PAZkQ"
      },
      "source": [
        "¿Para qué se necesitan?\n",
        "\n",
        "Cuando un fragmanto de código se repite muchas veces en un programa de manera literal, es buena idea aislarlo como una función, invocándolo solo una vez, desde el primer lugar en donde fue escrito.\n",
        "\n",
        "También sirve para **dividir el código (o el problema)** en piezas aisladas. Es una buena idea crear nuestras propias funciones."
      ]
    },
    {
      "cell_type": "markdown",
      "metadata": {
        "id": "9wakyPs0Bbq9"
      },
      "source": [
        "¿De dónde provienen las funciones?\n",
        "En general, las funciones provienen de al menos tres lugares:\n",
        "\n",
        "**De Python mismo**: varias funciones (como print()) son una parte integral de Python, y siempre están disponibles sin algún esfuerzo adicional del programador; se les llama a estas funciones funciones integradas.\n",
        "\n",
        "**De los módulos preinstalados de Python**: muchas de las funciones, las cuales comúnmente son menos utilizadas que las integradas, están disponibles en módulos instalados juntamente con Python; para poder utilizar estas funciones el programador debe realizar algunos pasos adicionales (se explicará acerca de esto en un momento).\n",
        "\n",
        "**Directamente del código**: tu puedes escribir tus propias funciones, colocarlas dentro del código, y usarlas libremente.\n",
        "Existe una posibilidad más, pero se relaciona con clases, se omitirá por ahora."
      ]
    },
    {
      "cell_type": "markdown",
      "metadata": {
        "id": "mL4GoWzJBlvo"
      },
      "source": [
        "Ejemplo de un código que podemos convertir en función:\n",
        "\n",
        "\n",
        "```\n",
        "# Tiene formato de código\n",
        "print(\"Ingresa un valor: \")\n",
        "a = int(input())\n",
        "\n",
        "print(\"Ingresa un valor: \")\n",
        "b = int(input())\n",
        "\n",
        "print(\"Ingresa un valor: \")\n",
        "c = int(input())\n",
        "```\n",
        "\n"
      ]
    },
    {
      "cell_type": "markdown",
      "metadata": {
        "id": "gNa9j5p6ByN_"
      },
      "source": [
        "¿Cómo es que se crea dicha función?  Se necesita definirla. Aquí, la palabra define es significativa.\n",
        "\n",
        "Así es como se ve la definición más simple de una función:\n",
        "\n",
        "\n",
        "\n",
        "```\n",
        "def nombreFuncion():\n",
        "    cuerpoFuncion\n",
        "```\n",
        "* Siempre comienza con la **palabra reservada **def (que significa definir)\n",
        "\n",
        "* Después de **def** va el nombre de la función (las reglas para darle nombre a las funciones son las mismas que para las variables).\n",
        "\n",
        "* Después del nombre de la función, hay un espacio para un par de **paréntesis** (ahorita no contienen algo, pero eso cambiará pronto).\n",
        "\n",
        "* La línea debe de terminar con **dos puntos**.\n",
        "\n",
        "* La línea inmediatamente después de def marca el comienzo del **cuerpo de la función** - donde varias o (al menos una) **instrucción anidada**, será ejecutada cada vez que la función sea invocada; nota: **la función termina donde el anidamiento termina**, se debe ser cauteloso.\n"
      ]
    },
    {
      "cell_type": "code",
      "metadata": {
        "colab": {
          "base_uri": "https://localhost:8080/"
        },
        "id": "U0eOACeNBbSQ",
        "outputId": "4e994e6b-d240-4949-9cf8-8ee1e7930078"
      },
      "source": [
        "def mensaje():\n",
        "    print(\"Ingresa un valor: \")\n",
        "\n",
        "print(\"Se comienza aquí.\")\n",
        "mensaje()\n",
        "print(\"Se termina aquí.\")"
      ],
      "execution_count": null,
      "outputs": [
        {
          "output_type": "stream",
          "text": [
            "Se comienza aquí.\n",
            "Ingresa un valor: \n",
            "Se termina aquí.\n"
          ],
          "name": "stdout"
        }
      ]
    },
    {
      "cell_type": "markdown",
      "metadata": {
        "id": "pd7-qX-lEPTX"
      },
      "source": [
        "* Cuando se invoca una función, Python recuerda el lugar donde esto ocurre y salta hacia dentro de la función invocada.\n",
        "* El cuerpo de la función es entonces ejecutado.\n",
        "* Al llegar al final de la función, Python regresa al lugar inmediato después de donde ocurrió la invocación.\n",
        "\n",
        "**No se debe invocar una función antes de que se haya definido.**\n",
        "\n",
        "En el siguiente código se ha insertado un error, ¿puedes notarlo?"
      ]
    },
    {
      "cell_type": "code",
      "metadata": {
        "colab": {
          "base_uri": "https://localhost:8080/"
        },
        "id": "URqIeeQiDQK5",
        "outputId": "2ae034c8-39e0-4a1e-e206-853b4059ac17"
      },
      "source": [
        "print(\"Se comienza aquí.\")\n",
        "mensaje()\n",
        "print(\"Se termina aquí.\")\n",
        "\n",
        "def mensaje():\n",
        "    print(\"Ingresa un valor: \")"
      ],
      "execution_count": null,
      "outputs": [
        {
          "output_type": "stream",
          "text": [
            "Se comienza aquí.\n",
            "Ingresa un valor: \n",
            "Se termina aquí.\n"
          ],
          "name": "stdout"
        }
      ]
    },
    {
      "cell_type": "markdown",
      "metadata": {
        "id": "geFin7GJEx6B"
      },
      "source": [
        "Esto arrojará un error:\n",
        "\n",
        "\n",
        "```\n",
        "NameError: name 'mensaje' is not defined\n",
        "```\n",
        "Volvamos al primer ejemplo, esta sería una manera correcta de implementar el código:\n"
      ]
    },
    {
      "cell_type": "code",
      "metadata": {
        "colab": {
          "base_uri": "https://localhost:8080/"
        },
        "id": "OisNL5QzFA0g",
        "outputId": "cd56acfa-985f-49eb-c572-b1b65564f6ef"
      },
      "source": [
        "def mensaje():\n",
        "    print(\"Ingresa un valor: \")\n",
        "\n",
        "mensaje()\n",
        "a = int(input())\n",
        "mensaje()\n",
        "b = int(input())\n",
        "mensaje()\n",
        "c = int(input())"
      ],
      "execution_count": null,
      "outputs": [
        {
          "output_type": "stream",
          "text": [
            "Ingresa un valor: \n",
            "5\n",
            "Ingresa un valor: \n",
            "6\n",
            "Ingresa un valor: \n",
            "7\n"
          ],
          "name": "stdout"
        }
      ]
    },
    {
      "cell_type": "markdown",
      "metadata": {
        "id": "YH1xsw8SFstv"
      },
      "source": [
        "##Funciones con parámetros"
      ]
    },
    {
      "cell_type": "markdown",
      "metadata": {
        "id": "ajdqqsz8F1Tt"
      },
      "source": [
        "Un parámetro es una variable, pero existen dos factores que hacen a un parámetro diferente:\n",
        "\n",
        "* **Los parámetros solo existen dentro de las funciones en donde han sido definidos**, y el único lugar donde un parámetro puede ser definido es entre los paréntesis después del nombre de la función, donde se encuentra la palabra reservada def.\n",
        "* **La asignación de un valor a un parámetro de una función se hace en el momento en que la función se manda llamar o se invoca**, especificando el argumento correspondiente.\n",
        "\n",
        "\n",
        "\n",
        "```\n",
        "def funcion(parametro):\n",
        "    \n",
        "```\n",
        "\n"
      ]
    },
    {
      "cell_type": "markdown",
      "metadata": {
        "id": "JmVOimE6Gsx1"
      },
      "source": [
        "Recuerda que:\n",
        "\n",
        "* **Los parámetros solo existen dentro de las funciones** (este es su entorno natural).\n",
        "* **Los argumentos existen fuera de las funciones**, y son los que pasan los valores a los parámetros correspondientes.\n",
        "Existe una clara división entre estos dos mundos.\n",
        "\n",
        "\n",
        "Enriquezcamos la función anterior agregándole un parámetro, se utilizará para mostrar al usuario el valor de un número que la función pide.\n",
        "\n"
      ]
    },
    {
      "cell_type": "code",
      "metadata": {
        "colab": {
          "base_uri": "https://localhost:8080/"
        },
        "id": "EOW3lU1MG1q_",
        "outputId": "d8c65224-e4a5-473f-a7a3-dd754f509b39"
      },
      "source": [
        "def mensaje(numero):\n",
        "    print(\"Ingresa el número:\", numero)\n",
        "\n",
        "mensaje(1)"
      ],
      "execution_count": null,
      "outputs": [
        {
          "output_type": "stream",
          "text": [
            "Ingresa el número: 1\n"
          ],
          "name": "stdout"
        }
      ]
    },
    {
      "cell_type": "markdown",
      "metadata": {
        "id": "QGI95QAOHQmw"
      },
      "source": [
        "Existe una circunstancia importante que se debe mencionar.\n",
        "\n",
        "Es posible tener **una variable con el mismo nombre del parámetro de la función**.\n",
        "\n",
        "El siguiente código muestra un ejemplo de esto:"
      ]
    },
    {
      "cell_type": "code",
      "metadata": {
        "id": "PQQmAvxPHULQ"
      },
      "source": [
        "def mensaje(numero):\n",
        "    print(\"Ingresa un número:\", numero)\n",
        "\n",
        "numero = 1234\n",
        "mensaje(1)\n",
        "print(numero)"
      ],
      "execution_count": null,
      "outputs": []
    },
    {
      "cell_type": "markdown",
      "metadata": {
        "id": "8a364HIYHcMl"
      },
      "source": [
        "Una situación como la anterior, activa un mecanismo denominado **sombreado:**\n",
        "\n",
        "* El parámetro x sombrea cualquier variable con el mismo nombre, pero...\n",
        "* ... solo dentro de la función que define el parámetro.\n",
        "El parámetro llamado `numero` es una entidad completamente diferente de la variable llamada numero.\n",
        "\n",
        "Esto significa que el código anterior producirá la siguiente salida:\n",
        "\n",
        "\n",
        "```\n",
        "Ingresa un número: 1\n",
        "1234\n",
        "```\n",
        "\n"
      ]
    },
    {
      "cell_type": "markdown",
      "metadata": {
        "id": "0T0I3TLUIDiV"
      },
      "source": [
        "Una función puede tener tantos parámetros como se desee, pero entre más parámetros, es más difícil memorizar su rol y propósito."
      ]
    },
    {
      "cell_type": "markdown",
      "metadata": {
        "id": "MqLDYqypIRUB"
      },
      "source": [
        "####Paso de parámetros posicionales"
      ]
    },
    {
      "cell_type": "markdown",
      "metadata": {
        "id": "HlHHO9-RIaQY"
      },
      "source": [
        "La técnica que asigna cada argumento al parámetro correspondiente, es llamada **paso de parámetros posicionales**, los argumentos pasados de esta manera son llamados **argumentos posicionales**.\n",
        "\n",
        "Ya se ha utilizado, pero Python ofrece mucho más. Se abordará este tema a continuación."
      ]
    },
    {
      "cell_type": "code",
      "metadata": {
        "id": "GE-rb32UIzzI"
      },
      "source": [
        "def miFuncion(a, b, c):\n",
        "    print(a, b, c)\n",
        "\n",
        "miFuncion(1, 2, 3)"
      ],
      "execution_count": null,
      "outputs": []
    },
    {
      "cell_type": "code",
      "metadata": {
        "id": "ZckTDK8aI4UA"
      },
      "source": [
        "def presentar(primerNombre, segundoNombre):\n",
        "    print(\"Hola, mi nombre es\", primerNombre, segundoNombre)\n",
        "\n",
        "presentar(\"Luke\", \"Skywalker\")\n",
        "presentar(\"Jesse\", \"Quick\")\n",
        "presentar(\"Clark\", \"Kent\")"
      ],
      "execution_count": null,
      "outputs": []
    },
    {
      "cell_type": "markdown",
      "metadata": {
        "id": "T4pnmlpiJHH4"
      },
      "source": [
        "####Paso de argumentos con palabras clave"
      ]
    },
    {
      "cell_type": "markdown",
      "metadata": {
        "id": "dpCarkbWJMOC"
      },
      "source": [
        "Python ofrece otra manera de pasar argumentos, donde **el significado del argumento esta definido por su nombre**, no su posición, a esto se le denomina **paso de argumentos con palabras clave**.\n",
        "\n",
        "Observa el siguiente código:"
      ]
    },
    {
      "cell_type": "code",
      "metadata": {
        "colab": {
          "base_uri": "https://localhost:8080/"
        },
        "id": "RKQ1fFFiJSIQ",
        "outputId": "923dbead-2f5e-49d2-9de1-d6dbe23a3a86"
      },
      "source": [
        "def presentar (primerNombre, segundoNombre):\n",
        "    print(\"Hola, mi nombre es\", primerNombre, segundoNombre)\n",
        "\n",
        "presentar(primerNombre = \"James\", segundoNombre = \"Bond\")\n",
        "presentar(segundoNombre = \"Skywalker\", primerNombre = \"Luke\")"
      ],
      "execution_count": null,
      "outputs": [
        {
          "output_type": "stream",
          "text": [
            "Hola, mi nombre es James Bond\n",
            "Hola, mi nombre es Luke Skywalker\n"
          ],
          "name": "stdout"
        }
      ]
    },
    {
      "cell_type": "markdown",
      "metadata": {
        "id": "yozorTc3JbLJ"
      },
      "source": [
        "Por supuesto que **no se debe de utilizar el nombre de un parámetro que no existe**.\n",
        "\n",
        "El siguiente código provocará un error de ejecución:\n"
      ]
    },
    {
      "cell_type": "code",
      "metadata": {
        "id": "oBWc-E8lJfi_"
      },
      "source": [
        "def presentar (primerNombre, segundoNombre):\n",
        "    print(\"Hola, mi nombre es \", primerNombre, segundoNombre)\n",
        "\n",
        "introduction(apellido=\"Skywalker\", primerNombre=\"Luke\")"
      ],
      "execution_count": null,
      "outputs": []
    },
    {
      "cell_type": "markdown",
      "metadata": {
        "id": "UbVe-TEjJ7gu"
      },
      "source": [
        "####Combinar argumentos posicionales y palabras clave"
      ]
    },
    {
      "cell_type": "markdown",
      "metadata": {
        "id": "8lWEQG_EJ_2D"
      },
      "source": [
        "Es posible combinar ambos tipos si se desea, solo hay una regla inquebrantable: se deben colocar **primero los argumentos posicionales y después los de palabras clave**.\n",
        "\n",
        "Piénsalo por un momento y entenderás el porque.\n",
        "\n",
        "Para mostrarte como funciona, se utilizara la siguiente función de tres parámetros:"
      ]
    },
    {
      "cell_type": "code",
      "metadata": {
        "colab": {
          "base_uri": "https://localhost:8080/"
        },
        "id": "4_VZKs3DKe1L",
        "outputId": "1b175abd-27e2-42f0-f37b-77ad81701d65"
      },
      "source": [
        "def suma(a, b, c):\n",
        "    print(a, \"+\", b, \"+\", c, \"=\", a + b + c)\n",
        "\n",
        "#manda llamar la función suma aquí\n",
        "suma(1,2,3)"
      ],
      "execution_count": null,
      "outputs": [
        {
          "output_type": "stream",
          "text": [
            "1 + 2 + 3 = 6\n"
          ],
          "name": "stdout"
        }
      ]
    },
    {
      "cell_type": "markdown",
      "metadata": {
        "id": "0XG8XPqxKycl"
      },
      "source": [
        "También, se puede reemplazar la invocación actual por una con palabras clave, como la siguiente:"
      ]
    },
    {
      "cell_type": "code",
      "metadata": {
        "colab": {
          "base_uri": "https://localhost:8080/"
        },
        "id": "FGXJ0Nb0K1S8",
        "outputId": "92688bb6-1eb4-4c89-c2a5-21e98c5a132d"
      },
      "source": [
        "def suma(a, b, c):\n",
        "    print(a, \"+\", b, \"+\", c, \"=\", a + b + c)\n",
        "\n",
        "#manda llamar la función suma aquí\n",
        "suma(c=1, a=2, b=3)"
      ],
      "execution_count": null,
      "outputs": [
        {
          "output_type": "stream",
          "text": [
            "2 + 3 + 1 = 6\n"
          ],
          "name": "stdout"
        }
      ]
    },
    {
      "cell_type": "markdown",
      "metadata": {
        "id": "cBL1I7H-LDHo"
      },
      "source": [
        "Ten presente el orden de los valores. \n",
        "Ahora intentemos mezclar ambas.\n",
        "\n",
        "Observa la siguiente invocación de la función:"
      ]
    },
    {
      "cell_type": "code",
      "metadata": {
        "colab": {
          "base_uri": "https://localhost:8080/"
        },
        "id": "J-BVCzjmLKKp",
        "outputId": "7d523e8d-b956-4703-932a-d354184fa68f"
      },
      "source": [
        "def suma(a, b, c):\n",
        "    print(a, \"+\", b, \"+\", c, \"=\", a + b + c)\n",
        "\n",
        "suma(3, c = 1, b = 2)"
      ],
      "execution_count": null,
      "outputs": [
        {
          "output_type": "stream",
          "text": [
            "3 + 2 + 1 = 6\n"
          ],
          "name": "stdout"
        }
      ]
    },
    {
      "cell_type": "markdown",
      "metadata": {
        "id": "FwapTh6XLXNZ"
      },
      "source": [
        "Se cuidadoso, ten cuidado de no cometer errores. Si se intenta pasar mas de un valor a un argumento, ocurrirá un error y se mostrará lo siguiente (Observa la siguiente invocación, se le esta asignando dos veces un valor al parámetro a):\n",
        "\n"
      ]
    },
    {
      "cell_type": "code",
      "metadata": {
        "colab": {
          "base_uri": "https://localhost:8080/",
          "height": 198
        },
        "id": "Mw6njDNiLaS1",
        "outputId": "7f3ab24b-9c01-4a4f-9732-c2746c2abbd1"
      },
      "source": [
        "def suma(a, b, c):\n",
        "    print(a, \"+\", b, \"+\", c, \"=\", a + b + c)\n",
        "\n",
        "suma(3, a = 1, b = 2)"
      ],
      "execution_count": null,
      "outputs": [
        {
          "output_type": "error",
          "ename": "TypeError",
          "evalue": "ignored",
          "traceback": [
            "\u001b[0;31m---------------------------------------------------------------------------\u001b[0m",
            "\u001b[0;31mTypeError\u001b[0m                                 Traceback (most recent call last)",
            "\u001b[0;32m<ipython-input-13-8e11eb8fcca2>\u001b[0m in \u001b[0;36m<module>\u001b[0;34m()\u001b[0m\n\u001b[1;32m      2\u001b[0m     \u001b[0mprint\u001b[0m\u001b[0;34m(\u001b[0m\u001b[0ma\u001b[0m\u001b[0;34m,\u001b[0m \u001b[0;34m\"+\"\u001b[0m\u001b[0;34m,\u001b[0m \u001b[0mb\u001b[0m\u001b[0;34m,\u001b[0m \u001b[0;34m\"+\"\u001b[0m\u001b[0;34m,\u001b[0m \u001b[0mc\u001b[0m\u001b[0;34m,\u001b[0m \u001b[0;34m\"=\"\u001b[0m\u001b[0;34m,\u001b[0m \u001b[0ma\u001b[0m \u001b[0;34m+\u001b[0m \u001b[0mb\u001b[0m \u001b[0;34m+\u001b[0m \u001b[0mc\u001b[0m\u001b[0;34m)\u001b[0m\u001b[0;34m\u001b[0m\u001b[0;34m\u001b[0m\u001b[0m\n\u001b[1;32m      3\u001b[0m \u001b[0;34m\u001b[0m\u001b[0m\n\u001b[0;32m----> 4\u001b[0;31m \u001b[0msuma\u001b[0m\u001b[0;34m(\u001b[0m\u001b[0;36m3\u001b[0m\u001b[0;34m,\u001b[0m \u001b[0ma\u001b[0m \u001b[0;34m=\u001b[0m \u001b[0;36m1\u001b[0m\u001b[0;34m,\u001b[0m \u001b[0mb\u001b[0m \u001b[0;34m=\u001b[0m \u001b[0;36m2\u001b[0m\u001b[0;34m)\u001b[0m\u001b[0;34m\u001b[0m\u001b[0;34m\u001b[0m\u001b[0m\n\u001b[0m",
            "\u001b[0;31mTypeError\u001b[0m: suma() got multiple values for argument 'a'"
          ]
        }
      ]
    },
    {
      "cell_type": "markdown",
      "metadata": {
        "id": "WoWtvXdWL9Tg"
      },
      "source": [
        "NOTA: A veces, se pueden dejar **valores predefinidos** para una función, ejemplo:\n",
        "```\n",
        "def presentar(primerNombre, segundoNombre=\"González\"):\n",
        "    print(\"Hola, mi nombre es\", primerNombre, segundoNombre)\n",
        "\n",
        "```\n",
        "Esto se llama un \"valor quemado\", sinembargo, no se recomienda.\n"
      ]
    },
    {
      "cell_type": "markdown",
      "metadata": {
        "id": "Sr4nhFEmMX3Z"
      },
      "source": [
        "#Ejercicios"
      ]
    },
    {
      "cell_type": "code",
      "metadata": {
        "id": "Po_hEvrCMadO"
      },
      "source": [
        "def intro(a=\"James Bond\", b=\"Bond\"):\n",
        "    print(\"Mi nombre es\", b + \".\", a + \".\")\n",
        "\n",
        "intro()"
      ],
      "execution_count": null,
      "outputs": []
    },
    {
      "cell_type": "code",
      "metadata": {
        "id": "wsv-F3uXMcrX"
      },
      "source": [
        "def intro(a=\"James Bond\", b=\"Bond\"):\n",
        "    print(\"Mi nombre es\", b + \".\", a + \".\")\n",
        "\n",
        "intro(b=\"Sergio López\")"
      ],
      "execution_count": null,
      "outputs": []
    },
    {
      "cell_type": "code",
      "metadata": {
        "id": "JgwyqFILMhd2"
      },
      "source": [
        "def intro(a, b=\"Bond\"):\n",
        "    print(\"Mi nombre es\", b + \".\", a + \".\")\n",
        "\n",
        "intro(\"Susan\")"
      ],
      "execution_count": null,
      "outputs": []
    },
    {
      "cell_type": "markdown",
      "metadata": {
        "id": "8rAAIsRcMtGm"
      },
      "source": [
        "#La instrucción `return`"
      ]
    },
    {
      "cell_type": "markdown",
      "metadata": {
        "id": "JVVYhplfM0lO"
      },
      "source": [
        "Todas las funciones presentadas anteriormente tienen algún tipo de efecto: producen un texto y lo envían a la consola.\n",
        "\n",
        "Por supuesto, las funciones, al igual que las funciones matemáticas, pueden tener resultados.\n",
        "\n",
        "Para lograr que las **funciones devuelvan un valor** (pero no solo para ese propósito) se utiliza la instrucción return (regresar o retornar).\n",
        "\n",
        "Esta palabra nos da una idea completa de sus capacidades. Nota: es una **palabra reservada** de Python.\n",
        "\n",
        "\n",
        "La instrucción return tiene **dos variantes diferentes**: considerémoslas por separado."
      ]
    },
    {
      "cell_type": "markdown",
      "metadata": {
        "id": "gOSk1bOVNAnw"
      },
      "source": [
        "## `return`sin una expresión"
      ]
    },
    {
      "cell_type": "markdown",
      "metadata": {
        "id": "uaNmHnzxNFhg"
      },
      "source": [
        "La primera consiste en la palabra reservada en sí, sin nada que la siga.\n",
        "\n",
        "Cuando se emplea dentro de una función, provoca la **terminación inmediata de la ejecución de la función, y un retorno instantáneo (de ahí el nombre) al punto de invocación**.\n",
        "\n",
        "Nota: si una función no está destinada a producir un resultado, **emplear la instrucción  `return` no es obligatorio**, se ejecutará implícitamente al final de la función.\n",
        "\n",
        "De cualquier manera, se puede emplear para **terminar las actividades de una función**, antes de que el control llegue a la última línea de la función.\n",
        "\n",
        "\n",
        "Consideremos la siguiente función:\n"
      ]
    },
    {
      "cell_type": "code",
      "metadata": {
        "colab": {
          "base_uri": "https://localhost:8080/"
        },
        "id": "nY3vtHqFXDO9",
        "outputId": "21f01575-ded1-4123-f1aa-fa6f301a7068"
      },
      "source": [
        "def felizAñoNuevo(deseos = True):\n",
        "    print(\"Tres ...\")\n",
        "    print(\"Dos ...\")\n",
        "    print(\"Uno ...\")\n",
        "    if not deseos:\n",
        "        return\n",
        "    \n",
        "    print(\"¡Feliz año nuevo!\") \n",
        "\n",
        "felizAñoNuevo()\n"
      ],
      "execution_count": null,
      "outputs": [
        {
          "output_type": "stream",
          "text": [
            "Tres ...\n",
            "Dos ...\n",
            "Uno ...\n",
            "¡Feliz año nuevo!\n"
          ],
          "name": "stdout"
        }
      ]
    },
    {
      "cell_type": "markdown",
      "metadata": {
        "id": "e_jcvmaeX2sh"
      },
      "source": [
        "Al proporcionar False como argumento:\n",
        "```\n",
        "felizAñoNuevo(False)\n",
        "```\n",
        "Se modificará el comportamiento de la función; la instrucción return provocará su terminación justo antes de los deseos. Esta es la salida actualizada:\n"
      ]
    },
    {
      "cell_type": "code",
      "metadata": {
        "colab": {
          "base_uri": "https://localhost:8080/"
        },
        "id": "eEngvRFiYAno",
        "outputId": "3935b024-857f-4e50-c487-a5ec611d7895"
      },
      "source": [
        "def felizAñoNuevo(deseos = True):\n",
        "    print(\"Tres ...\")\n",
        "    print(\"Dos ...\")\n",
        "    print(\"Uno ...\")\n",
        "    if not deseos:\n",
        "        return\n",
        "    \n",
        "    print(\"¡Feliz año nuevo!\") \n",
        "\n",
        "felizAñoNuevo(False)\n"
      ],
      "execution_count": null,
      "outputs": [
        {
          "output_type": "stream",
          "text": [
            "Tres ...\n",
            "Dos ...\n",
            "Uno ...\n"
          ],
          "name": "stdout"
        }
      ]
    },
    {
      "cell_type": "markdown",
      "metadata": {
        "id": "IdbomqPxYO80"
      },
      "source": [
        "## `return`con una expresión"
      ]
    },
    {
      "cell_type": "markdown",
      "metadata": {
        "id": "laYdZz2IYTsF"
      },
      "source": [
        "La segunda variante de return está extendida con una expresión:\n",
        "\n",
        "```\n",
        "funcion():\n",
        "     return expresión\n",
        "```\n",
        "\n",
        "Hay dos consecuencias de usarla:\n",
        "\n",
        "* Provoca la **terminación inmediata de la ejecución de la función** (nada nuevo en comparación con la primer variante).\n",
        "* Además, la función **evaluará el valor de la expresión y lo devolverá (de ahí el nombre una vez mas) como el resultado de la función.**\n",
        "\n",
        "Este ejemplo es sencillo:"
      ]
    },
    {
      "cell_type": "code",
      "metadata": {
        "colab": {
          "base_uri": "https://localhost:8080/"
        },
        "id": "p0adEUvJYz6u",
        "outputId": "2606771c-908a-4d2c-eefb-a63dd2bdee9f"
      },
      "source": [
        "def funcion_aburrida():\n",
        "    return 123\n",
        "\n",
        "x = funcion_aburrida()\n",
        "\n",
        "print (\"La funcion_aburrida ha devuelto su resultado. Es: \", x) "
      ],
      "execution_count": null,
      "outputs": [
        {
          "output_type": "stream",
          "text": [
            "La funcion_aburrida ha devuelto su resultado. Es:  123\n"
          ],
          "name": "stdout"
        }
      ]
    },
    {
      "cell_type": "markdown",
      "metadata": {
        "id": "rxI_c9SgZHiT"
      },
      "source": [
        "La instrucción return, enriquecida con la expresión (la expresión es muy simple aquí), \"transporta\" el valor de la expresión al lugar donde se ha invocado la función.\n",
        "\n",
        "El resultado se puede usar libremente aquí, por ejemplo, para ser asignado a una variable.\n",
        "\n",
        "También puede ignorarse por completo y perderse sin dejar rastro."
      ]
    },
    {
      "cell_type": "markdown",
      "metadata": {
        "id": "ok7EM5Q1ZUm-"
      },
      "source": [
        "#Bonus Track: Valor `None`"
      ]
    },
    {
      "cell_type": "markdown",
      "metadata": {
        "id": "h-WPnELEZl1T"
      },
      "source": [
        "Permítenos presentarte un valor muy curioso (para ser honestos, un valor que es ninguno) llamado `None`.\n",
        "\n",
        "Sus datos no representan valor razonable alguno; en realidad, no es un valor en lo absoluto; por lo tanto, no debe participar en ninguna expresión.\n",
        "\n",
        "Por ejemplo, un fragmento de código como el siguiente:\n",
        "\n",
        "\n",
        "```\n",
        "print(None + 2)\n",
        "```\n",
        "\n",
        "Causará un error de tiempo de ejecución, descrito por el siguiente mensaje de diagnóstico:\n",
        "\n",
        "\n",
        "\n",
        "```\n",
        "TypeError: unsupported operand type(s) for +: 'NoneType' and 'int'\n",
        "```\n",
        "\n",
        "NOTA: `None`es una palabra reservada\n"
      ]
    },
    {
      "cell_type": "markdown",
      "metadata": {
        "id": "jpbbXr5gaMAt"
      },
      "source": [
        "Solo hay dos tipos de circunstancias en las que None se puede usar de manera segura:\n",
        "\n",
        "* Cuando **se le asigna a una variable** (o se devuelve como el **resultado de una función**).\n",
        "* Cuando **se compara con una variable** para diagnosticar su estado interno.\n",
        "Al igual que aquí:"
      ]
    },
    {
      "cell_type": "code",
      "metadata": {
        "id": "S5ukvreBaYi-"
      },
      "source": [
        "valor = None\n",
        "if valor == None:\n",
        "    print(\"Lo siento, no tienes ningún valor\") "
      ],
      "execution_count": null,
      "outputs": []
    },
    {
      "cell_type": "markdown",
      "metadata": {
        "id": "BxX7gI-Zaat0"
      },
      "source": [
        "No olvides esto: si una función no devuelve un cierto valor utilizando una cláusula de expresión return, se asume que **devuelve implícitamente** `None`.\n",
        "\n",
        "Vamos a probarlo."
      ]
    },
    {
      "cell_type": "code",
      "metadata": {
        "colab": {
          "base_uri": "https://localhost:8080/"
        },
        "id": "EGX9AXD-azUZ",
        "outputId": "5127682a-5129-4cb1-d1d5-7be1ec6fd349"
      },
      "source": [
        "def strangeFunction(n):\n",
        "    if(n % 2 == 0):\n",
        "        return True\n",
        "        \n",
        "print(strangeFunction(2))\n",
        "print(strangeFunction(1))"
      ],
      "execution_count": null,
      "outputs": [
        {
          "output_type": "stream",
          "text": [
            "True\n",
            "None\n"
          ],
          "name": "stdout"
        }
      ]
    }
  ]
}